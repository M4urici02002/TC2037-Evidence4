{
  "nbformat": 4,
  "nbformat_minor": 0,
  "metadata": {
    "colab": {
      "provenance": [],
      "authorship_tag": "ABX9TyO15VeHQcwA2gj3CxBjlvVm",
      "include_colab_link": true
    },
    "kernelspec": {
      "name": "python3",
      "display_name": "Python 3"
    },
    "language_info": {
      "name": "python"
    }
  },
  "cells": [
    {
      "cell_type": "markdown",
      "metadata": {
        "id": "view-in-github",
        "colab_type": "text"
      },
      "source": [
        "<a href=\"https://colab.research.google.com/github/M4urici02002/TC2037-Evidence4/blob/main/Evidence4.ipynb\" target=\"_parent\"><img src=\"https://colab.research.google.com/assets/colab-badge.svg\" alt=\"Open In Colab\"/></a>"
      ]
    },
    {
      "cell_type": "code",
      "execution_count": 21,
      "metadata": {
        "colab": {
          "base_uri": "https://localhost:8080/"
        },
        "id": "UF0Hd1xDa90I",
        "outputId": "e447160f-b968-496c-8452-82229748f6c0"
      },
      "outputs": [
        {
          "output_type": "stream",
          "name": "stdout",
          "text": [
            "1,2,fizz,4,buzz,fizz,7,8,fizz,buzz,11,fizz,13,14,fizzbuzz,16,17,fizz,19,buzz,fizz,22,23,fizz,buzz,26,fizz,28,29,fizzbuzz,"
          ]
        }
      ],
      "source": [
        "#Import the threading module to handle multi-threaded execution\n",
        "import threading\n",
        "\n",
        "#Define the FizzBuzz class to manage the FizzBuzz problem logic\n",
        "class FizzBuzz:\n",
        "    #Initialize the class with a maximum number 'n'\n",
        "    def __init__(self, n):\n",
        "        self.n = n                  #The maximum number up to which to count\n",
        "        self.current = 1            #Variable to keep the current count in the sequence\n",
        "        self.condition = threading.Condition()  #Condition object to synchronize threads\n",
        "\n",
        "    #Method to handle numbers that are divisible by 3 but not by 5\n",
        "    def fizz(self, printFizz):\n",
        "        while True:\n",
        "            with self.condition:\n",
        "                #Wait until it's this thread's turn to act\n",
        "                while self.current <= self.n and (self.current % 3 != 0 or self.current % 5 == 0):\n",
        "                    self.condition.wait()\n",
        "                #End the thread if the maximum number is reached\n",
        "                if self.current > self.n:\n",
        "                    return\n",
        "                printFizz()\n",
        "                self.current += 1\n",
        "                #Notify all threads that they can proceed\n",
        "                self.condition.notify_all()\n",
        "\n",
        "    #Method for handling numbers divisible by 5 but not by 3\n",
        "    def buzz(self, printBuzz):\n",
        "        while True:\n",
        "            with self.condition:\n",
        "                while self.current <= self.n and (self.current % 5 != 0 or self.current % 3 == 0):\n",
        "                    self.condition.wait()\n",
        "                if self.current > self.n:\n",
        "                    return\n",
        "                printBuzz()\n",
        "                self.current += 1\n",
        "                self.condition.notify_all()\n",
        "\n",
        "    #Method for handling numbers divisible by both 3 and 5\n",
        "    def fizzbuzz(self, printFizzBuzz):\n",
        "        while True:\n",
        "            with self.condition:\n",
        "                while self.current <= self.n and (self.current % 15 != 0):\n",
        "                    self.condition.wait()\n",
        "                if self.current > self.n:\n",
        "                    return\n",
        "                printFizzBuzz()\n",
        "                self.current += 1\n",
        "                self.condition.notify_all()\n",
        "\n",
        "    #Method for handling numbers not divisible by either 3 or 5\n",
        "    def number(self, printNumber):\n",
        "        while True:\n",
        "            with self.condition:\n",
        "                while self.current <= self.n and (self.current % 3 == 0 or self.current % 5 == 0):\n",
        "                    self.condition.wait()\n",
        "                if self.current > self.n:\n",
        "                    return\n",
        "                printNumber(self.current)\n",
        "                self.current += 1\n",
        "                self.condition.notify_all()\n",
        "\n",
        "#Printing functions for each type of output\n",
        "def printFizz():\n",
        "    print(\"fizz\", end=',')\n",
        "\n",
        "def printBuzz():\n",
        "    print(\"buzz\", end=',')\n",
        "\n",
        "def printFizzBuzz():\n",
        "    print(\"fizzbuzz\", end=',')\n",
        "\n",
        "def printNumber(number):\n",
        "    print(number, end=',')\n",
        "\n",
        "#Main block to start and manage threads\n",
        "if __name__ == \"__main__\":\n",
        "    n = 30  #Set the maximum number of the sequence\n",
        "    fb = FizzBuzz(n)  #Create an instance of FizzBuzz\n",
        "    threads = [  #Create threads for each function\n",
        "        threading.Thread(target=fb.fizz, args=(printFizz,)),\n",
        "        threading.Thread(target=fb.buzz, args=(printBuzz,)),\n",
        "        threading.Thread(target=fb.fizzbuzz, args=(printFizzBuzz,)),\n",
        "        threading.Thread(target=fb.number, args=(printNumber,))\n",
        "    ]\n",
        "\n",
        "    for thread in threads:  #Start all threads\n",
        "        thread.start()\n",
        "    for thread in threads:  #Wait for all threads to finish\n",
        "        thread.join()\n"
      ]
    }
  ]
}